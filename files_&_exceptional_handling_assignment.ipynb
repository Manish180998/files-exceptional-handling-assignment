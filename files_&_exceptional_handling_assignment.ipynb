{
  "nbformat": 4,
  "nbformat_minor": 0,
  "metadata": {
    "colab": {
      "provenance": []
    },
    "kernelspec": {
      "name": "python3",
      "display_name": "Python 3"
    },
    "language_info": {
      "name": "python"
    }
  },
  "cells": [
    {
      "cell_type": "markdown",
      "source": [
        "### **Theory questions**"
      ],
      "metadata": {
        "id": "fjZ7aEGsuzOx"
      }
    },
    {
      "cell_type": "markdown",
      "source": [
        "**Ques.1 What is the difference between interpreted and compiled languages**\n",
        "\n",
        "**Ans.** A compiled language is one where the code is fully converted into a file that the computer can run before the program starts. This makes it faster because the computer doesn’t have to translate anything while running it. However, if there are errors in the code, you won’t see them until after the compilation is done. Languages like C and C++ work this way.\n",
        "An interpreted language runs the code line by line while the program is running. This makes it easier to test and fix mistakes because you can see errors right away. However, since the computer has to translate the code as it runs, it can be slower. Languages like Python and JavaScript use this method. Some languages, like Java, use a mix of both to get the benefits of both speed and flexibility."
      ],
      "metadata": {
        "id": "awLQl9DbPzEz"
      }
    },
    {
      "cell_type": "markdown",
      "source": [
        "**Ques.2 What is exception handling in Python**\n",
        "\n",
        "**Ans.** **Exception handling in Python** is a way to deal with errors without crashing your program. Sometimes, things go wrong when a program runs—like dividing by zero or trying to open a file that doesn’t exist. Instead of stopping everything, Python lets you catch these errors and handle them properly.  \n",
        "\n",
        "You do this using `try` and `except`. The code inside `try` is what you want to run, and if there’s an error, `except` will handle it. For example:  \n",
        "\n",
        "```python\n",
        "try:\n",
        "    number = 10 / 0  # This will cause an error\n",
        "except ZeroDivisionError:\n",
        "    print(\"Oops! You can't divide by zero.\")\n",
        "```\n",
        "\n",
        "With this, instead of the program crashing, it prints a friendly message. This helps keep programs running smoothly even when things go wrong."
      ],
      "metadata": {
        "id": "aAxUtN4KQI59"
      }
    },
    {
      "cell_type": "markdown",
      "source": [
        "**Ques.3 What is the purpose of the finally block in exception handling**\n",
        "\n",
        "**Ans.** The **`finally` block** in Python is used when you want to make sure some code runs no matter what—whether an error happens or not. It’s often used for things like closing files, disconnecting from a database, or cleaning up resources.  \n",
        "\n",
        "For example, if you open a file, you should always close it, even if something goes wrong:  \n",
        "\n",
        "```python\n",
        "try:\n",
        "    file = open(\"data.txt\", \"r\")  # Trying to open a file\n",
        "    content = file.read()\n",
        "except FileNotFoundError:\n",
        "    print(\"File not found!\")\n",
        "finally:\n",
        "    print(\"Closing file...\")  # This will always run\n",
        "    file.close()\n",
        "```\n",
        "\n",
        "Even if the file isn’t found and an error occurs, the message **\"Closing file...\"** will still print, and the file will close safely. This helps prevent issues in your program.\n"
      ],
      "metadata": {
        "id": "v3LOttn8QwZV"
      }
    },
    {
      "cell_type": "markdown",
      "source": [
        "**Ques.4 What is logging in Python**\n",
        "\n",
        "**Ans.** **Logging in Python** is a way to track events that happen when a program runs. Instead of just printing messages to the screen, logging allows you to save important information about errors, warnings, or other details in a structured way. This helps in debugging and monitoring programs, especially in large applications.  \n",
        "\n",
        "Python has a built-in `logging` module that makes it easy to record messages at different levels, like **debug**, **info**, **warning**, **error**, and **critical**. Here’s a simple example:  \n",
        "\n",
        "```python\n",
        "import logging\n",
        "\n",
        "logging.basicConfig(level=logging.INFO)\n",
        "logging.info(\"This is an info message.\")\n",
        "logging.warning(\"This is a warning!\")\n",
        "logging.error(\"Something went wrong!\")\n",
        "```\n",
        "\n",
        "With logging, you can store these messages in a file instead of just printing them, making it easier to analyze what happened if something goes wrong."
      ],
      "metadata": {
        "id": "fHFV1SrvRUeC"
      }
    },
    {
      "cell_type": "markdown",
      "source": [
        "**Ques.5 What is the significance of the __del__ method in Python**\n",
        "\n",
        "**Ans.** The **`__del__` method** in Python is like a cleanup tool. It’s automatically called when an object is about to be destroyed or removed from memory. This method is useful for freeing up resources, like closing files or connections, before the object is gone.  \n",
        "\n",
        "For example:  \n",
        "\n",
        "```python\n",
        "class Demo:\n",
        "    def __init__(self, name):\n",
        "        self.name = name\n",
        "        print(f\"Object {self.name} created.\")\n",
        "    \n",
        "    def __del__(self):\n",
        "        print(f\"Object {self.name} deleted.\")\n",
        "\n",
        "obj = Demo(\"Test\")  # Creates an object\n",
        "del obj  # Deletes the object, calling __del__()\n",
        "```\n",
        "\n",
        "When you delete the object with `del obj`, the `__del__` method runs and prints **\"Object Test deleted.\"** It’s helpful for cleaning up, but in many cases, using tools like `with` for handling files or resources is preferred."
      ],
      "metadata": {
        "id": "xhSIesYkRqKu"
      }
    },
    {
      "cell_type": "markdown",
      "source": [
        "**Ques.6 What is the difference between import and from ... import in Python**\n",
        "\n",
        "**Ans.** The difference between `import` and `from ... import` in Python is how you bring in code from another file or module.\n",
        "\n",
        "1. **`import`**: When you use `import`, you bring in the whole module. So, every time you use something from that module, you have to type its full name.\n",
        "\n",
        "   Example:  \n",
        "   ```python\n",
        "   import math\n",
        "   result = math.sqrt(25)  # You need to type 'math.' to use anything from the math module\n",
        "   ```\n",
        "\n",
        "2. **`from ... import`**: This way, you can import just the specific functions or parts you need from a module. This lets you use them directly without having to type the module name every time.\n",
        "\n",
        "   Example:  \n",
        "   ```python\n",
        "   from math import sqrt\n",
        "   result = sqrt(25)  # Now you can just use 'sqrt' directly without 'math.'\n",
        "   ```\n",
        "\n",
        "So, `import` brings in the whole module, and `from ... import` lets you pick and use specific parts of the module right away."
      ],
      "metadata": {
        "id": "L3FHbovUSJmF"
      }
    },
    {
      "cell_type": "markdown",
      "source": [
        "**Ques.7 How can you handle multiple exceptions in Python**\n",
        "\n",
        "**Ans.**In Python, you can handle multiple errors in different ways.\n",
        "\n",
        "### 1. **Using Multiple `except` Blocks:**\n",
        "You can set up separate `except` blocks for different types of errors. Each block will handle a specific error.\n",
        "\n",
        "Example:\n",
        "```python\n",
        "try:\n",
        "    x = 10 / 0  # This causes a division by zero error\n",
        "except ZeroDivisionError:\n",
        "    print(\"You can't divide by zero!\")\n",
        "except ValueError:\n",
        "    print(\"Something went wrong with the value!\")\n",
        "```\n",
        "Here, if the error is division by zero, it will go to the first block. If it’s a different error, like a value error, it will go to the second block.\n",
        "\n",
        "### 2. **Handling Multiple Errors in One Block:**\n",
        "You can also handle different errors in the same block by listing them together.\n",
        "\n",
        "Example:\n",
        "```python\n",
        "try:\n",
        "    x = int(\"hello\")  # This causes a value error\n",
        "except (ZeroDivisionError, ValueError) as e:\n",
        "    print(f\"An error occurred: {e}\")\n",
        "```\n",
        "In this case, both errors (division by zero or value errors) will be caught by the same block.\n",
        "\n",
        "### 3. **Using `else` and `finally`:**\n",
        "You can also add an `else` block, which runs if no errors occur, and a `finally` block, which runs no matter what (great for cleanup tasks).\n",
        "\n",
        "Example:\n",
        "```python\n",
        "try:\n",
        "    x = 10 / 2  # This works fine\n",
        "except (ZeroDivisionError, ValueError) as e:\n",
        "    print(f\"An error occurred: {e}\")\n",
        "else:\n",
        "    print(\"Everything went smoothly!\")\n",
        "finally:\n",
        "    print(\"This will always run.\")\n",
        "```\n",
        "\n",
        "This way, you can manage different errors properly and make sure your program keeps running smoothly!"
      ],
      "metadata": {
        "id": "WFXuN7R5T853"
      }
    },
    {
      "cell_type": "markdown",
      "source": [
        "**Ques.8 What is the purpose of the with statement when handling files in Python**\n",
        "\n",
        "**Ans.** The **`with` statement** in Python makes working with files easier and safer. It helps by automatically opening the file when you need it and ensuring that it gets closed properly when you’re done, even if something goes wrong.\n",
        "\n",
        "Normally, after opening a file, you have to remember to close it, but with the `with` statement, Python does that for you. This makes the code simpler and avoids problems like forgetting to close a file, which can cause issues with memory or accessing the file later.\n",
        "\n",
        "Here’s an example:\n",
        "\n",
        "```python\n",
        "with open(\"example.txt\", \"r\") as file:\n",
        "    content = file.read()\n",
        "    print(content)\n",
        "```\n",
        "\n",
        "In this case, you don’t have to worry about closing the file—it happens automatically once you’re finished reading, even if there’s an error while reading."
      ],
      "metadata": {
        "id": "4UZG5RvdUsox"
      }
    },
    {
      "cell_type": "markdown",
      "source": [
        "**Ques.9 What is the difference between multithreading and multiprocessing**\n",
        "\n",
        "**Ans.** **Multithreading** and **multiprocessing** are two ways to run multiple tasks at the same time, but they work differently.\n",
        "\n",
        "1. **Multithreading**:\n",
        "   - **How it works**: Multithreading involves running multiple \"threads\" (smaller parts of a program) inside one single process. These threads share the same memory and resources.\n",
        "   - **When it’s useful**: It’s best for tasks that spend a lot of time waiting, like downloading files or reading from a database—basically, tasks that are not too CPU-heavy.\n",
        "   - **Limitations**: Since all threads share the same memory, they can sometimes cause problems, like accidentally messing up data. In Python, there's something called the Global Interpreter Lock (GIL), which means that only one thread can do the actual work at a time when it comes to CPU-heavy tasks.\n",
        "\n",
        "   Example:\n",
        "   ```python\n",
        "   import threading\n",
        "\n",
        "   def print_numbers():\n",
        "       for i in range(5):\n",
        "           print(i)\n",
        "\n",
        "   thread1 = threading.Thread(target=print_numbers)\n",
        "   thread1.start()\n",
        "   thread1.join()\n",
        "   ```\n",
        "\n",
        "2. **Multiprocessing**:\n",
        "   - **How it works**: Multiprocessing uses separate processes, each with its own memory space and resources. This means each process can run independently, often on different CPU cores.\n",
        "   - **When it’s useful**: It’s great for tasks that need a lot of computation, like crunching numbers or processing large amounts of data, because it can use multiple CPU cores at the same time.\n",
        "   - **Limitations**: Since each process doesn’t share memory, they need special ways to communicate with each other, which can be a bit more complicated.\n",
        "\n",
        "   Example:\n",
        "   ```python\n",
        "   import multiprocessing\n",
        "\n",
        "   def print_numbers():\n",
        "       for i in range(5):\n",
        "           print(i)\n",
        "\n",
        "   process1 = multiprocessing.Process(target=print_numbers)\n",
        "   process1.start()\n",
        "   process1.join()\n",
        "   ```\n"
      ],
      "metadata": {
        "id": "qiaFwHerVq4E"
      }
    },
    {
      "cell_type": "markdown",
      "source": [
        "**Ques.10 What are the advantages of using logging in a program**\n",
        "\n",
        "**Ans.** Using **logging** in a program has several benefits that make your code easier to manage and troubleshoot:\n",
        "\n",
        "1. **Easier Debugging**: Logging helps you track what’s happening in your program. When something goes wrong, you can see exactly what happened and when, which makes fixing problems faster. Instead of just seeing an error message, you get more details about what caused the issue.\n",
        "\n",
        "2. **Control Over Output**: With logging, you can decide where the messages go. You can log information to a file, show it on the screen, or even send it somewhere else. You can also control the level of detail, like logging only critical errors or showing everything, including small details for debugging.\n",
        "\n",
        "3. **Keeping a Record**: Logs are saved to files, so even after your program stops, you can look back at what happened. This is helpful for understanding issues that occurred earlier or tracking how your program is performing over time.\n",
        "\n",
        "4. **No Need for Debugging Prints**: Unlike using `print()` statements to debug, logging keeps things organized. You can turn off logging messages when you're done with debugging without messing with your code too much.\n",
        "\n",
        "5. **Monitoring the Program**: In bigger programs, logging helps you keep an eye on how things are going. You can track things like how long tasks take, if anything is failing, or if certain events are happening as expected.\n",
        "\n",
        "6. **Different Levels of Detail**: Logging lets you sort messages by importance. For example, you can log detailed information when you're testing your code and only log serious errors when it's live. This makes it easier to manage logs without overwhelming you with unnecessary details."
      ],
      "metadata": {
        "id": "RqsJrojqWLoX"
      }
    },
    {
      "cell_type": "markdown",
      "source": [
        "**Ques.11 What is memory management in Python**\n",
        "\n",
        "**Ans.** **Memory management in Python** refers to how Python handles memory allocation and deallocation when objects are created and deleted during the execution of a program. Python takes care of managing memory automatically, which makes it easier for developers, but it’s still important to understand how it works. Here’s an overview:\n",
        "\n",
        "1. **Automatic Memory Allocation**: When you create objects (like variables, lists, or classes), Python automatically allocates memory for them. You don’t need to manually allocate or release memory.\n",
        "\n",
        "2. **Garbage Collection**: Python has a built-in mechanism called **garbage collection**, which automatically frees up memory by removing objects that are no longer in use. When an object’s reference count drops to zero (i.e., no other part of the code is using that object), Python marks it for deletion.\n",
        "\n",
        "3. **Reference Counting**: Python uses a technique called **reference counting** to keep track of how many references point to an object. When the reference count goes to zero, meaning no one is using the object anymore, Python will automatically free that memory.\n",
        "\n",
        "4. **Memory Leaks**: Even with garbage collection, sometimes memory can be wasted or not properly released due to circular references (when two or more objects reference each other). Python's garbage collector tries to deal with this, but it’s something to be aware of when working with large programs.\n",
        "\n",
        "5. **Memory Pools**: Python uses a memory management system called **pymalloc** for small objects (like integers and strings). It keeps a pool of memory blocks to avoid frequent allocation and deallocation, which speeds up the process of memory management."
      ],
      "metadata": {
        "id": "GecqDue8WmbB"
      }
    },
    {
      "cell_type": "markdown",
      "source": [
        "**Ques.12 What are the basic steps involved in exception handling in Python**\n",
        "\n",
        "**Ans.** In Python, **exception handling** is the process of dealing with errors (called exceptions) that can occur in your code. Here are the basic steps:\n",
        "\n",
        "1. **Try Block**:  \n",
        "   You start by putting the code that might cause an error inside a `try` block. This is where you test the code to see if any errors happen.\n",
        "\n",
        "   Example:\n",
        "   ```python\n",
        "   try:\n",
        "       x = 10 / 0  # This will cause an error because you can’t divide by zero\n",
        "   ```\n",
        "\n",
        "2. **Except Block**:  \n",
        "   If an error happens in the `try` block, Python moves to the `except` block. This block tells Python what to do when a specific error occurs. For example, if dividing by zero causes an error, you can catch that and print a message instead of the program crashing.\n",
        "\n",
        "   Example:\n",
        "   ```python\n",
        "   except ZeroDivisionError:\n",
        "       print(\"You can't divide by zero!\")\n",
        "   ```\n",
        "\n",
        "3. **Else Block** (Optional):  \n",
        "   If no error occurs in the `try` block, Python will run the `else` block (if you have one). This is useful when you want to do something only if the code ran successfully without errors.\n",
        "\n",
        "   Example:\n",
        "   ```python\n",
        "   else:\n",
        "       print(\"The division was successful!\")\n",
        "   ```\n",
        "\n",
        "4. **Finally Block** (Optional):  \n",
        "   The `finally` block will always run, no matter what happens, even if there was an error or not. It’s typically used for cleaning up resources like closing a file or releasing memory.\n",
        "\n",
        "   Example:\n",
        "   ```python\n",
        "   finally:\n",
        "       print(\"This will always run.\")\n",
        "   ```\n",
        "\n",
        "### Example in Action:\n",
        "```python\n",
        "try:\n",
        "    x = 10 / 0  # This will cause an error\n",
        "except ZeroDivisionError:\n",
        "    print(\"You can't divide by zero!\")\n",
        "else:\n",
        "    print(\"Division was successful!\")\n",
        "finally:\n",
        "    print(\"This will always run.\")\n",
        "```"
      ],
      "metadata": {
        "id": "NU4EWG9AXKPH"
      }
    },
    {
      "cell_type": "markdown",
      "source": [
        "**Ques.13 Why is memory management important in Python**\n",
        "\n",
        "**Ans.** **Memory management** in Python is important for several reasons, and here’s why it matters:\n",
        "\n",
        "1. **Efficient Use of Resources**: Memory is limited, so it’s important that your program doesn’t use more than it needs. Python manages memory automatically, ensuring that your program only uses what it requires and releases it when it’s done.\n",
        "\n",
        "2. **Avoiding Memory Leaks**: If memory isn’t properly managed, your program can start holding onto memory it no longer needs, which can cause it to slow down or even crash over time. Python takes care of this by cleaning up unused memory for you.\n",
        "\n",
        "3. **Faster Performance**: Proper memory management can make your program run faster. Python uses an optimized memory system, which helps avoid unnecessary delays when allocating and freeing memory, so your program runs more smoothly.\n",
        "\n",
        "4. **Garbage Collection**: Python automatically removes objects from memory when they're no longer in use, so you don’t have to worry about manually managing this. This \"garbage collection\" ensures that your program doesn’t waste memory.\n",
        "\n",
        "5. **Preventing Crashes**: Without good memory management, a program might run out of memory and crash. Python helps prevent this by automatically freeing up memory when it’s no longer needed.\n",
        "\n",
        "6. **Better for Larger Programs**: If you’re building a large or complex program, especially one that works with a lot of data, memory management becomes crucial. Proper handling ensures your program can run for longer periods without slowing down or using too much memory."
      ],
      "metadata": {
        "id": "EGfG2JLNXPJr"
      }
    },
    {
      "cell_type": "markdown",
      "source": [
        "**Ques.14 What is the role of try and except in exception handling**\n",
        "\n",
        "**Ans.** In Python, **`try`** and **`except`** are used together to handle errors, making sure your program doesn’t crash if something goes wrong.\n",
        "\n",
        "1. **`try` Block**:  \n",
        "   - You put the code that might cause an error inside the `try` block. Python will try to run this code. If everything works fine, the program continues normally.\n",
        "   - But, if an error happens, Python immediately stops running the code in the `try` block and jumps to the `except` block to handle the error.\n",
        "\n",
        "   Example:\n",
        "   ```python\n",
        "   try:\n",
        "       result = 10 / 0  # This will cause an error because you can't divide by zero\n",
        "   ```\n",
        "\n",
        "2. **`except` Block**:  \n",
        "   - The `except` block is where you can deal with the error. If an error happens in the `try` block, Python will go to the `except` block and run the code there to handle the error.\n",
        "   - This helps avoid crashes and allows you to respond to the error, for example, by showing a message or fixing the issue.\n",
        "\n",
        "   Example:\n",
        "   ```python\n",
        "   except ZeroDivisionError:\n",
        "       print(\"You can't divide by zero!\")  # This handles the error and prevents the program from crashing\n",
        "   ```\n",
        "\n",
        "### Example in Action:\n",
        "```python\n",
        "try:\n",
        "    x = 10 / 0  # This will cause an error\n",
        "except ZeroDivisionError:\n",
        "    print(\"You can't divide by zero!\")  # This will handle the error\n",
        "```"
      ],
      "metadata": {
        "id": "_j2SYkLGY5T8"
      }
    },
    {
      "cell_type": "markdown",
      "source": [
        "**Ques.15 How does Python's garbage collection system work**\n",
        "\n",
        "**Ans.** Python’s **garbage collection** system is like an automatic cleaner for your program's memory. It helps by removing objects (like variables or data) that are no longer needed, so your program doesn't waste memory or crash due to memory overload. Here's how it works:\n",
        "\n",
        "1. **Reference Counting**:  \n",
        "   - Every object in Python has a **reference count**—a number that tracks how many times the object is being used. When you create an object, it starts with a reference count of 1. If you use that object in different places, the reference count increases.\n",
        "   - When the reference count drops to 0 (meaning no one is using the object anymore), Python knows it can delete that object and free up memory.\n",
        "\n",
        "2. **Circular References**:  \n",
        "   - Sometimes, objects refer to each other in a loop (called a **circular reference**), meaning their reference count never drops to zero, even if no one needs them anymore. This could cause memory to get stuck.\n",
        "   - Python’s garbage collector can spot these circular references and break the loop, cleaning up the memory they take up.\n",
        "\n",
        "3. **The Garbage Collector**:  \n",
        "   - Python has a background **garbage collector** that runs automatically to clean up memory. It looks for objects that aren’t being used anymore and deletes them to free up space for new objects.\n",
        "\n",
        "4. **Generational Garbage Collection**:  \n",
        "   - Python organizes objects into **three generations** based on how long they've been around. New objects start in **generation 0**, and if they stay around long enough, they move into **generation 1** and then **generation 2**.\n",
        "   - The garbage collector checks younger objects more often because they’re more likely to become unnecessary quickly, while older objects are checked less frequently."
      ],
      "metadata": {
        "id": "rF41JXS3aYkd"
      }
    },
    {
      "cell_type": "markdown",
      "source": [
        "**Ques.16 What is the purpose of the else block in exception handling**\n",
        "\n",
        "**Ans** The **`else`** block in exception handling is used to run some code **only if no errors** happen in the **`try`** block. It's a way to separate the \"normal\" code from the error-handling code.\n",
        "\n",
        "Here's how it works:\n",
        "\n",
        "1. If the code inside the **`try`** block runs without any problems (no errors), the **`else`** block will execute.\n",
        "2. If there’s an error inside the **`try`** block, Python will skip the **`else`** block and jump to the **`except`** block to handle the error.\n",
        "\n",
        "The **`else`** block is optional, but it’s useful when you want to perform actions that should only happen if everything goes as planned—without errors.\n",
        "\n",
        "### Example:\n",
        "```python\n",
        "try:\n",
        "    num = 10 / 2  # This won't cause any error\n",
        "except ZeroDivisionError:\n",
        "    print(\"You can't divide by zero!\")\n",
        "else:\n",
        "    print(\"Division was successful!\")  # This will run because no error happened\n",
        "```\n"
      ],
      "metadata": {
        "id": "r9ghRVz4a0X9"
      }
    },
    {
      "cell_type": "markdown",
      "source": [
        "**Ques.17 What are the common logging levels in Python**\n",
        "\n",
        "**Ans** In Python, the **logging module** has different levels of messages that help you track the flow of your program and spot issues. Here are the common logging levels:\n",
        "\n",
        "1. **DEBUG**:  \n",
        "   - This is for detailed, low-level information. It’s helpful when you’re trying to figure out what’s happening inside the program, like debugging or checking how things work.\n",
        "   - Example: `logging.debug(\"This is a debug message.\")`\n",
        "\n",
        "2. **INFO**:  \n",
        "   - This level is used for general information about the program running smoothly. It confirms that everything is going as expected.\n",
        "   - Example: `logging.info(\"Application started successfully.\")`\n",
        "\n",
        "3. **WARNING**:  \n",
        "   - This level is for situations where something unexpected happened, but it’s not a major issue. It’s like a heads-up that something might need attention soon, but it’s not critical.\n",
        "   - Example: `logging.warning(\"The disk space is running low.\")`\n",
        "\n",
        "4. **ERROR**:  \n",
        "   - Used when there’s a problem that affects the program's functionality, but it doesn’t cause the program to crash. It’s a sign that something went wrong.\n",
        "   - Example: `logging.error(\"Failed to connect to the database.\")`\n",
        "\n",
        "5. **CRITICAL**:  \n",
        "   - This is the most serious level. It’s for very severe problems that might stop the program from working entirely or cause it to crash.\n",
        "   - Example: `logging.critical(\"System crash! Unable to recover.\")`"
      ],
      "metadata": {
        "id": "uMIOniEtbSNy"
      }
    },
    {
      "cell_type": "markdown",
      "source": [
        "**Ques.18 What is the difference between os.fork() and multiprocessing in Python**\n",
        "\n",
        "**Ans** In Python, both **`os.fork()`** and **`multiprocessing`** allow you to create new processes, but they work in different ways and are suited for different scenarios.\n",
        "\n",
        "### **`os.fork()`**:\n",
        "   - **How it works**: `os.fork()` creates a new process by copying the current process. So, you get a **parent** process and a **child** process. Both processes continue running after the fork, but the child is a duplicate of the parent.\n",
        "   - **Platform**: It only works on **Unix-like systems** (like Linux and macOS). It won’t work on **Windows**.\n",
        "   - **Memory**: Both processes start with the same memory, but after the fork, they use separate memory spaces. Changes in one process won't affect the other.\n",
        "   - **Use**: It’s a lower-level tool, useful when you need to directly control processes. But, it requires more manual effort to manage the processes.\n",
        "\n",
        "   Example:\n",
        "   ```python\n",
        "   import os\n",
        "   pid = os.fork()\n",
        "   if pid > 0:\n",
        "       print(\"This is the parent process.\")\n",
        "   else:\n",
        "       print(\"This is the child process.\")\n",
        "   ```\n",
        "\n",
        "### **`multiprocessing`**:\n",
        "   - **How it works**: The `multiprocessing` module is a higher-level way to create processes. It gives you a simpler interface for creating and managing processes. You don’t need to manually manage process creation or memory sharing.\n",
        "   - **Platform**: It works on **all platforms**, including **Windows**, **Linux**, and **macOS**.\n",
        "   - **Memory**: Processes created with `multiprocessing` don’t share memory by default. But it provides tools to safely share data between processes if needed.\n",
        "   - **Use**: It's easier to use, especially for complex tasks like dividing work among multiple processes. It’s the go-to option when you want to handle multiple tasks at once in your program.\n",
        "\n",
        "   Example:\n",
        "   ```python\n",
        "   from multiprocessing import Process\n",
        "   def worker():\n",
        "       print(\"This is a worker process.\")\n",
        "   \n",
        "   p = Process(target=worker)\n",
        "   p.start()\n",
        "   p.join()  # Waits for the process to finish\n",
        "   ```\n",
        "\n",
        "### Key Differences:\n",
        "- **Platform**: `os.fork()` only works on Linux/macOS, while `multiprocessing` works everywhere (Windows, Linux, macOS).\n",
        "- **Complexity**: `os.fork()` is more low-level and manual, while `multiprocessing` is higher-level and easier to use.\n",
        "- **Memory**: `os.fork()` starts with the same memory, but after the fork, the processes have separate memory. With `multiprocessing`, processes don’t share memory unless you use special tools to make them share data.\n"
      ],
      "metadata": {
        "id": "6XRrWPvzkJ-R"
      }
    },
    {
      "cell_type": "markdown",
      "source": [
        "**Ques.19 What is the importance of closing a file in Python**\n",
        "\n",
        "**Ans.** Closing a file in Python is important for several reasons:\n",
        "\n",
        "1. **Freeing Up Resources**:  \n",
        "   When you open a file, your computer needs to set aside some resources to handle that file. If you don’t close it, those resources stay used up, which could lead to problems, especially if your program is working with a lot of files.\n",
        "\n",
        "2. **Saving Your Work**:  \n",
        "   Sometimes, when you write to a file, the data is first saved in memory (a temporary area) before actually being written to the file. If you forget to close the file, some of that data might not get written properly, which can lead to missing or corrupted information.\n",
        "\n",
        "3. **Avoiding File Access Problems**:  \n",
        "   When a file is open, other programs or processes might not be able to access it. By closing the file, you make sure that it’s available for others to use or edit.\n",
        "\n",
        "4. **Good Practice**:  \n",
        "   It’s just a good habit to close files when you're done with them. It keeps your program running smoothly and helps prevent bugs or unexpected problems, especially as your program gets more complex."
      ],
      "metadata": {
        "id": "IKhcxCODknVs"
      }
    },
    {
      "cell_type": "markdown",
      "source": [
        "**Ques.20 What is the difference between file.read() and file.readline() in Python**\n",
        "\n",
        "**Ans.**In Python, **`file.read()`** and **`file.readline()`** are both used to read a file, but they do it in different ways.\n",
        "\n",
        "### 1. **`file.read()`**:\n",
        "   - **What it does**: When you use `file.read()`, it reads the entire content of the file all at once and gives it back as one big string.\n",
        "   - **When to use it**: You would use `read()` if you want to grab the whole file and work with it at once.\n",
        "   - **Example**:\n",
        "     ```python\n",
        "     with open('example.txt', 'r') as file:\n",
        "         content = file.read()  # Reads everything in the file\n",
        "         print(content)\n",
        "     ```\n",
        "   - **Things to keep in mind**: If the file is very large, it might take up a lot of memory since it loads everything into memory at once.\n",
        "\n",
        "### 2. **`file.readline()`**:\n",
        "   - **What it does**: `file.readline()` reads the file **one line at a time**. Each time you call it, it gives you the next line of the file.\n",
        "   - **When to use it**: You’d use `readline()` if you want to process the file line by line, especially useful for big files where you don’t want to load the whole file at once.\n",
        "   - **Example**:\n",
        "     ```python\n",
        "     with open('example.txt', 'r') as file:\n",
        "         line = file.readline()  # Reads one line at a time\n",
        "         while line:\n",
        "             print(line, end='')  # Print each line\n",
        "             line = file.readline()  # Go to the next line\n",
        "     ```\n",
        "   - **Things to keep in mind**: `readline()` is great for big files because it doesn’t load the entire file into memory, just one line at a time."
      ],
      "metadata": {
        "id": "2SC5XlM7lEsY"
      }
    },
    {
      "cell_type": "markdown",
      "source": [
        "**Ques.21 What is the logging module in Python used for?**\n",
        "\n",
        "**Ans.** The **logging module** in Python is used to keep track of what’s going on in your program while it runs. It helps you log messages about what's happening, whether it’s general information, warnings, errors, or critical issues.\n",
        "\n",
        "Here’s why it’s useful:\n",
        "\n",
        "1. **Track What’s Happening**:  \n",
        "   You can log things like what your program is doing, which functions are being called, or what data is being processed. It’s like having a diary for your program to understand its activities.\n",
        "\n",
        "2. **Catch Errors**:  \n",
        "   When something goes wrong, such as an error or an exception, the logging module can log the error message. This makes it easier to figure out what went wrong and where.\n",
        "\n",
        "3. **Monitor the Program**:  \n",
        "   You can use logging to keep track of certain events, like user actions or performance. For example, if you're building an app, you might log when users log in or make a purchase, which helps track behavior over time.\n",
        "\n",
        "4. **Control the Level of Detail**:  \n",
        "   The logging module lets you choose how detailed you want your logs to be. For example, you can log everything for debugging, or just important issues like errors or warnings.\n",
        "\n",
        "5. **Store Logs in Different Places**:  \n",
        "   You can send logs to different places, like your computer’s screen, a file, or even a server, making it easy to monitor your program in different ways."
      ],
      "metadata": {
        "id": "hw05qTsBl3en"
      }
    },
    {
      "cell_type": "markdown",
      "source": [
        "**Ques.22 What is the os module in Python used for in file handling**\n",
        "\n",
        "**Ans.** The **`os` module** in Python is used to interact with the operating system, especially when it comes to handling files and directories. Here’s what it can help you with:\n",
        "\n",
        "1. **Managing File Paths**:  \n",
        "   The `os` module makes it easier to work with file paths. You can combine paths, check if they exist, and manipulate them without worrying about what operating system you're using.\n",
        "\n",
        "   Example:\n",
        "   ```python\n",
        "   import os\n",
        "   path = os.path.join('folder', 'file.txt')  # Combines folder and file names\n",
        "   ```\n",
        "\n",
        "2. **Creating and Deleting Files or Folders**:  \n",
        "   You can create new folders, remove files, or delete empty directories using the `os` module. It's useful for organizing files.\n",
        "\n",
        "   Example:\n",
        "   ```python\n",
        "   os.mkdir('new_folder')  # Create a new folder\n",
        "   os.remove('file.txt')  # Delete a file\n",
        "   ```\n",
        "\n",
        "3. **Checking if a File or Folder Exists**:  \n",
        "   Before trying to open or modify a file, you can check if it exists, preventing errors in your code.\n",
        "\n",
        "   Example:\n",
        "   ```python\n",
        "   if os.path.exists('file.txt'):\n",
        "       print(\"File exists\")\n",
        "   ```\n",
        "\n",
        "4. **Renaming and Moving Files**:  \n",
        "   If you need to rename or move files around, the `os` module makes it simple with commands like `os.rename()`.\n",
        "\n",
        "   Example:\n",
        "   ```python\n",
        "   os.rename('old_name.txt', 'new_name.txt')  # Renames a file\n",
        "   ```\n",
        "\n",
        "5. **Getting File Details**:  \n",
        "   Want to know the size of a file or when it was last modified? The `os` module gives you these details with just a few commands.\n",
        "\n",
        "   Example:\n",
        "   ```python\n",
        "   file_size = os.path.getsize('file.txt')\n",
        "   print(f\"File size: {file_size} bytes\")\n",
        "   ```\n",
        "\n",
        "6. **Working with Directories**:  \n",
        "   You can list all files in a folder or change your current working folder using `os`.\n",
        "\n",
        "   Example:\n",
        "   ```python\n",
        "   files = os.listdir('.')  # List all files in the current folder\n",
        "   ```"
      ],
      "metadata": {
        "id": "ZhfTCzAFoBj4"
      }
    },
    {
      "cell_type": "markdown",
      "source": [
        "**Ques.23 What are the challenges associated with memory management in Python**\n",
        "\n",
        "**Ans.** Memory management in Python comes with a few challenges, even though Python automatically handles a lot of it for you. Here are some of the main challenges:\n",
        "\n",
        "### 1. **Garbage Collection**:\n",
        "   - **Challenge**: Python uses garbage collection to automatically clean up memory by removing unused objects. However, this doesn’t always work perfectly, especially in cases where objects reference each other (circular references). This can sometimes prevent Python from cleaning up the memory, leading to memory that’s still being used up even though it’s not needed anymore.\n",
        "\n",
        "### 2. **Memory Leaks**:\n",
        "   - **Challenge**: Even though Python manages memory automatically, memory leaks can still happen. This occurs when objects are not deleted properly and the garbage collector doesn’t catch them. Over time, this can cause your program to use more and more memory.\n",
        "\n",
        "### 3. **Inefficient Memory Usage**:\n",
        "   - **Challenge**: Some of Python’s objects, like large lists or dictionaries, can use more memory than you might expect. This can become a problem if your program handles large amounts of data. The way Python stores these objects can sometimes lead to inefficient use of memory.\n",
        "\n",
        "### 4. **Fragmentation**:\n",
        "   - **Challenge**: Memory fragmentation happens when memory is allocated and then freed up in small chunks, leaving gaps of unused space. Over time, these gaps can add up and cause your program to run inefficiently, especially if memory isn’t being reused effectively.\n",
        "\n",
        "### 5. **Object Overhead**:\n",
        "   - **Challenge**: Python objects have some extra memory overhead. For example, even simple things like integers or strings require extra memory to store metadata (information about the object). This means that even small objects can use more memory than just the value itself.\n",
        "\n",
        "### 6. **Memory in Multi-Threaded Programs**:\n",
        "   - **Challenge**: In programs with multiple threads, managing memory becomes trickier. If different threads try to use the same memory at the same time without being careful, it can cause issues like memory leaks, data corruption, or race conditions (where the order of execution messes things up).\n",
        "\n",
        "### 7. **Handling Large Data Sets**:\n",
        "   - **Challenge**: When working with big files or large amounts of data, your program can run out of memory if you try to load everything at once. Managing large data sets efficiently is key to making sure your program doesn't crash or become slow."
      ],
      "metadata": {
        "id": "NijJHWQyrSOr"
      }
    },
    {
      "cell_type": "markdown",
      "source": [
        "**Ques.24 How do you raise an exception manually in Python**\n",
        "\n",
        "**Ans** To raise an exception manually in Python, we can use the `raise` keyword. This allows we to trigger an exception deliberately, which can be useful when we want to handle a specific error in a controlled way or when certain conditions are met.\n",
        "\n",
        "Here's how we can do it:\n",
        "\n",
        "1. **Raising a built-in exception**:\n",
        "   ```python\n",
        "   raise ValueError(\"This is a custom error message\")\n",
        "   ```\n",
        "   This raises a `ValueError` exception with a custom message.\n",
        "\n",
        "2. **Raising a custom exception**:\n",
        "   we can also define our own exception classes by subclassing the built-in `Exception` class. Here's an example:\n",
        "   ```python\n",
        "   class CustomError(Exception):\n",
        "       pass\n",
        "   \n",
        "   raise CustomError(\"This is a custom exception\")\n",
        "   ```\n",
        "\n",
        "In both cases, raising an exception will interrupt the normal flow of the program and look for a corresponding `except` block to handle the exception. If there’s no handler, the program will terminate and display the error message.\n",
        "\n",
        "we can also add more details or handle specific types of exceptions depending on our needs!"
      ],
      "metadata": {
        "id": "18xN5OfLs9ZO"
      }
    },
    {
      "cell_type": "markdown",
      "source": [
        "**Ques.25 Why is it important to use multithreading in certain applications?**\n",
        "\n",
        "**Ans.** Multithreading is important in certain applications because it lets your program do multiple things at once, which can make it run faster and more efficiently. Here’s why it’s useful:\n",
        "\n",
        "### 1. **Faster Performance (Doing Things Simultaneously)**:\n",
        "   - With multithreading, a program can run multiple tasks at the same time. If you have a multi-core processor, each task (or \"thread\") can run on a separate core, speeding up the process.\n",
        "   - **Example**: Imagine a web server that handles several requests. With multithreading, each request can be processed by a different thread at the same time, making the server handle more requests quickly.\n",
        "\n",
        "### 2. **Making Better Use of Resources**:\n",
        "   - Instead of wasting time waiting for one task to finish (like waiting for a file to download or a calculation to complete), multithreading allows the program to work on other tasks while waiting. This helps you get more done in less time.\n",
        "   - **Example**: While downloading a file in the background, your program can continue doing calculations or processing data without having to wait for the download to finish.\n",
        "\n",
        "### 3. **Better User Experience (Responsiveness)**:\n",
        "   - Multithreading is great for programs with a user interface (UI). It lets the program keep responding to user input, even when other tasks are running in the background.\n",
        "   - **Example**: In a video game, one thread can handle the player’s movements while another handles graphics rendering. This keeps the game responsive while it's busy doing other things.\n",
        "\n",
        "### 4. **Handling I/O Tasks More Efficiently**:\n",
        "   - If your program spends a lot of time waiting for things like reading files or getting data from the internet (known as I/O-bound tasks), multithreading helps because while one thread waits for an I/O task to finish, other threads can continue working on different tasks.\n",
        "   - **Example**: A program that scrapes information from websites can use multiple threads to download different web pages at the same time instead of waiting for each one to finish one by one.\n",
        "\n",
        "### 5. **Making Code Simpler and Cleaner**:\n",
        "   - Dividing a big task into smaller tasks that run in their own threads can make your code easier to manage and more organized.\n",
        "   - **Example**: In a program, you might have one thread for handling user input, another for managing game logic, and a third for rendering graphics. Each part works independently, which makes it simpler to develop and troubleshoot.\n",
        "\n",
        "### 6. **Real-Time Applications**:\n",
        "   - For programs that need to respond to things instantly (like robots or sensors), multithreading helps make sure everything happens on time.\n",
        "   - **Example**: A robot can use one thread to control its motors, another to process sensor data, and another to communicate with other robots, all at the same time."
      ],
      "metadata": {
        "id": "pYzghRb5uZCr"
      }
    },
    {
      "cell_type": "markdown",
      "source": [
        "### Practical Questions\n"
      ],
      "metadata": {
        "id": "KrL8Cxgvx3DJ"
      }
    },
    {
      "cell_type": "code",
      "source": [
        "\"\"\"\n",
        "Ques.1 How can you open a file for writing in Python and write a string to it\n",
        "Ans.\n",
        "\"\"\"\n",
        "# Open a file in write mode\n",
        "with open(\"example.txt\", \"w\") as file:\n",
        "    # Write a string to the file\n",
        "    file.write(\"Hello, this is a test string.\")\n",
        "\n",
        "print(\"File written successfully!\")\n"
      ],
      "metadata": {
        "colab": {
          "base_uri": "https://localhost:8080/"
        },
        "id": "wIbBztiSxzDK",
        "outputId": "dad2836d-aa68-4837-b8b1-e47e3d2d0ba4"
      },
      "execution_count": null,
      "outputs": [
        {
          "output_type": "stream",
          "name": "stdout",
          "text": [
            "File written successfully!\n"
          ]
        }
      ]
    },
    {
      "cell_type": "code",
      "source": [
        "\"\"\"\n",
        "Ques.2 Write a Python program to read the contents of a file and print each line\n",
        "Ans.\n",
        "\"\"\"\n",
        "# Open the file in read mode\n",
        "with open(\"example.txt\", \"r\") as file:\n",
        "    # Read and print each line\n",
        "    for line in file:\n",
        "        print(line.strip())  # strip() removes extra newlines\n"
      ],
      "metadata": {
        "colab": {
          "base_uri": "https://localhost:8080/"
        },
        "id": "_sgcfQzhyji2",
        "outputId": "fa8a71a0-df98-4fe0-ceea-a631ba6b25c4"
      },
      "execution_count": null,
      "outputs": [
        {
          "output_type": "stream",
          "name": "stdout",
          "text": [
            "Hello, this is a test string.\n"
          ]
        }
      ]
    },
    {
      "cell_type": "code",
      "source": [
        "\"\"\"\n",
        "Ques.3 How would you handle a case where the file doesn't exist while trying to open it for reading\n",
        "Ans.\n",
        "\"\"\"\n",
        "try:\n",
        "    # Attempt to open the file in read mode\n",
        "    with open(\"example.txt\", \"r\") as file:\n",
        "        for line in file:\n",
        "            print(line.strip())\n",
        "except FileNotFoundError:\n",
        "    print(\"Error: The file does not exist. Please check the filename and try again.\")\n"
      ],
      "metadata": {
        "colab": {
          "base_uri": "https://localhost:8080/"
        },
        "id": "YDekp8t8ytam",
        "outputId": "72a40781-453a-4e28-baa6-7d5c947b4383"
      },
      "execution_count": null,
      "outputs": [
        {
          "output_type": "stream",
          "name": "stdout",
          "text": [
            "Hello, this is a test string.\n"
          ]
        }
      ]
    },
    {
      "source": [
        "\"\"\"\n",
        "Ques.4 Write a Python script that reads from one file and writes its content to another file\n",
        "Ans.\n",
        "\"\"\"\n",
        "import os\n",
        "\n",
        "# Check if the source file exists\n",
        "if not os.path.exists(\"source.txt\"):\n",
        "    # If not, create the file\n",
        "    with open(\"source.txt\", \"w\") as source_file:\n",
        "        source_file.write(\"This is the content of source.txt.\\n\")\n",
        "    print(\"Source file 'source.txt' created.\")\n",
        "\n",
        "# Now, open the files for reading and writing\n",
        "with open(\"source.txt\", \"r\") as source_file, open(\"destination.txt\", \"w\") as destination_file:\n",
        "    # Read content from the source file and write it to the destination file\n",
        "    for line in source_file:\n",
        "        destination_file.write(line)\n",
        "\n",
        "print(\"File copied successfully!\")"
      ],
      "cell_type": "code",
      "metadata": {
        "colab": {
          "base_uri": "https://localhost:8080/"
        },
        "id": "ksvfciuWz_pc",
        "outputId": "71b76d24-33c1-4525-d075-0ac78da05db8"
      },
      "execution_count": null,
      "outputs": [
        {
          "output_type": "stream",
          "name": "stdout",
          "text": [
            "Source file 'source.txt' created.\n",
            "File copied successfully!\n"
          ]
        }
      ]
    },
    {
      "cell_type": "code",
      "source": [
        "\"\"\"\n",
        "Ques.5 How would you catch and handle division by zero error in Python.\n",
        "Ans.\n",
        "\"\"\"\n",
        "try:\n",
        "    # Attempt to divide by zero\n",
        "    num = int(input(\"Enter a number: \"))\n",
        "    result = num / 0  # This will raise ZeroDivisionError\n",
        "    print(\"Result:\", result)\n",
        "except ZeroDivisionError:\n",
        "    print(\"Error: Division by zero is not allowed.\")\n"
      ],
      "metadata": {
        "colab": {
          "base_uri": "https://localhost:8080/"
        },
        "id": "SlFqjD6IysVW",
        "outputId": "f1ae5986-59e3-4fef-b4af-d62ea59d8cb2"
      },
      "execution_count": null,
      "outputs": [
        {
          "output_type": "stream",
          "name": "stdout",
          "text": [
            "Enter a number: 11\n",
            "Error: Division by zero is not allowed.\n"
          ]
        }
      ]
    },
    {
      "cell_type": "code",
      "source": [
        "\"\"\"\n",
        "Ques.6 Write a Python program that logs an error message to a log file when a division by zero exception occurs\n",
        "Ans.\n",
        "\"\"\"\n",
        "import logging\n",
        "\n",
        "# Configure logging to write errors to a log file\n",
        "logging.basicConfig(filename=\"error.log\", level=logging.ERROR, format=\"%(asctime)s - %(levelname)s - %(message)s\")\n",
        "\n",
        "try:\n",
        "    # Attempt to perform division\n",
        "    numerator = int(input(\"Enter the numerator: \"))\n",
        "    denominator = int(input(\"Enter the denominator: \"))\n",
        "    result = numerator / denominator\n",
        "    print(\"Result:\", result)\n",
        "except ZeroDivisionError as e:\n",
        "    error_message = f\"Error: Division by zero occurred. {str(e)}\"\n",
        "    print(error_message)\n",
        "    logging.error(error_message)  # Log the error message to error.log\n"
      ],
      "metadata": {
        "colab": {
          "base_uri": "https://localhost:8080/"
        },
        "id": "3QqWLL9vyr2F",
        "outputId": "c4c415bb-a587-437c-fd5a-37978ef96171"
      },
      "execution_count": null,
      "outputs": [
        {
          "output_type": "stream",
          "name": "stdout",
          "text": [
            "Enter the numerator: 5\n",
            "Enter the denominator: 7\n",
            "Result: 0.7142857142857143\n"
          ]
        }
      ]
    },
    {
      "cell_type": "code",
      "source": [
        "\"\"\"\n",
        "Ques.7 How do you log information at different levels (INFO, ERROR, WARNING) in Python using the logging module\n",
        "Ans.\n",
        "\"\"\"\n",
        "import logging\n",
        "\n",
        "# Configure logging to output messages to the console with different levels\n",
        "logging.basicConfig(level=logging.DEBUG, format=\"%(asctime)s - %(levelname)s - %(message)s\")\n",
        "\n",
        "# Log messages at different levels\n",
        "logging.debug(\"This is a debug message\")  # Detailed information, typically for diagnosing problems\n",
        "logging.info(\"This is an info message\")   # General information about the program's state\n",
        "logging.warning(\"This is a warning message\")  # Indicates something unexpected, but the program can continue\n",
        "logging.error(\"This is an error message\")  # Indicates a problem that prevents part of the program from working\n",
        "logging.critical(\"This is a critical message\")  # A very serious error that might cause the program to stop\n"
      ],
      "metadata": {
        "colab": {
          "base_uri": "https://localhost:8080/"
        },
        "id": "WGTba6Nc3Acd",
        "outputId": "7fdf60c1-5d6f-479f-8fb1-c6f01d66089d"
      },
      "execution_count": null,
      "outputs": [
        {
          "output_type": "stream",
          "name": "stderr",
          "text": [
            "WARNING:root:This is a warning message\n",
            "ERROR:root:This is an error message\n",
            "CRITICAL:root:This is a critical message\n"
          ]
        }
      ]
    },
    {
      "cell_type": "code",
      "source": [
        "\"\"\"\n",
        "Ques.8 Write a program to handle a file opening error using exception handling\n",
        "Ans.\n",
        "\"\"\"\n",
        "try:\n",
        "    # Attempt to open a file\n",
        "    with open(\"non_existent_file.txt\", \"r\") as file:\n",
        "        content = file.read()\n",
        "        print(content)\n",
        "except FileNotFoundError:\n",
        "    print(\"Error: The file does not exist. Please check the file name and try again.\")\n",
        "except IOError:\n",
        "    print(\"Error: An error occurred while trying to read the file.\")\n"
      ],
      "metadata": {
        "colab": {
          "base_uri": "https://localhost:8080/"
        },
        "id": "3pBwxOzi3caE",
        "outputId": "ce34e274-4055-4a6e-a57a-b11070ebfa05"
      },
      "execution_count": null,
      "outputs": [
        {
          "output_type": "stream",
          "name": "stdout",
          "text": [
            "Error: The file does not exist. Please check the file name and try again.\n"
          ]
        }
      ]
    },
    {
      "cell_type": "code",
      "source": [
        "\"\"\"\n",
        "Ques.9 How can you read a file line by line and store its content in a list in Python\n",
        "Ans.\n",
        "\"\"\"\n",
        "# Open the file in read mode\n",
        "with open(\"example.txt\", \"r\") as file:\n",
        "    # Read each line and store it in a list\n",
        "    lines = file.readlines()\n",
        "\n",
        "# Print the content stored in the list\n",
        "print(lines)\n"
      ],
      "metadata": {
        "colab": {
          "base_uri": "https://localhost:8080/"
        },
        "id": "jDitIyf33iga",
        "outputId": "a7be2a91-f487-4d98-85d5-683c2f18739d"
      },
      "execution_count": null,
      "outputs": [
        {
          "output_type": "stream",
          "name": "stdout",
          "text": [
            "['Hello, this is a test string.']\n"
          ]
        }
      ]
    },
    {
      "cell_type": "code",
      "source": [
        "\"\"\"\n",
        "Ques.10 How can you append data to an existing file in Python\n",
        "Ans.\n",
        "\"\"\"\n",
        "# Open the file in append mode\n",
        "with open(\"example.txt\", \"a\") as file:\n",
        "    # Append data to the file\n",
        "    file.write(\"\\nThis is the appended text.\")\n",
        "\n",
        "print(\"Data appended successfully!\")\n"
      ],
      "metadata": {
        "colab": {
          "base_uri": "https://localhost:8080/"
        },
        "id": "KC5xhTCO3iQl",
        "outputId": "8f7d7ae3-285c-4f14-fca6-b7cfade72633"
      },
      "execution_count": null,
      "outputs": [
        {
          "output_type": "stream",
          "name": "stdout",
          "text": [
            "Data appended successfully!\n"
          ]
        }
      ]
    },
    {
      "cell_type": "code",
      "source": [
        "\"\"\"\n",
        "Ques.11 Write a Python program that uses a try-except block to handle an error when attempting to access a dictionary key that doesn't exist\n",
        "Ans.\n",
        "\"\"\"\n",
        "my_dict = {'apple': 1, 'banana': 2}\n",
        "\n",
        "try:\n",
        "    value = my_dict['orange']  # Try to get the value for key 'orange'\n",
        "except KeyError:\n",
        "    print(\"Error: The key 'orange' does not exist in the dictionary.\")\n"
      ],
      "metadata": {
        "colab": {
          "base_uri": "https://localhost:8080/"
        },
        "id": "VtUhCiA_3iA7",
        "outputId": "0135ec0b-1df9-498d-c8db-992c0d500e7b"
      },
      "execution_count": null,
      "outputs": [
        {
          "output_type": "stream",
          "name": "stdout",
          "text": [
            "Error: The key 'orange' does not exist in the dictionary.\n"
          ]
        }
      ]
    },
    {
      "cell_type": "code",
      "source": [
        "\"\"\"\n",
        "Ques.12 Write a program that demonstrates using multiple except blocks to handle different types of exceptions\n",
        "Ans.\n",
        "\"\"\"\n",
        "try:\n",
        "    # Attempt to perform multiple operations that may cause different exceptions\n",
        "    num1 = int(input(\"Enter a number: \"))\n",
        "    num2 = int(input(\"Enter another number: \"))\n",
        "\n",
        "    # This may cause ZeroDivisionError if num2 is zero\n",
        "    result = num1 / num2\n",
        "    print(\"Result:\", result)\n",
        "\n",
        "    # This may cause ValueError if the input is not a valid integer\n",
        "    lst = [1, 2, 3]\n",
        "    print(lst[num1])  # This could raise IndexError if num1 is out of bounds\n",
        "\n",
        "except ZeroDivisionError:\n",
        "    print(\"Error: Division by zero is not allowed!\")\n",
        "\n",
        "except ValueError:\n",
        "    print(\"Error: Invalid input, please enter a valid integer.\")\n",
        "\n",
        "except IndexError:\n",
        "    print(\"Error: Index out of range in the list.\")\n",
        "\n",
        "except Exception as e:\n",
        "    print(f\"An unexpected error occurred: {e}\")\n"
      ],
      "metadata": {
        "colab": {
          "base_uri": "https://localhost:8080/"
        },
        "id": "HpL3Xd9F3huc",
        "outputId": "473d07c8-2c8b-461f-8b73-b148e2d310ee"
      },
      "execution_count": null,
      "outputs": [
        {
          "output_type": "stream",
          "name": "stdout",
          "text": [
            "Enter a number: 2\n",
            "Enter another number: 3\n",
            "Result: 0.6666666666666666\n",
            "3\n"
          ]
        }
      ]
    },
    {
      "cell_type": "code",
      "source": [
        "\"\"\"\n",
        "Ques.13 How would you check if a file exists before attempting to read it in Python\n",
        "Ans.\n",
        "\"\"\"\n",
        "import os\n",
        "\n",
        "file_path = \"example.txt\"\n",
        "\n",
        "if os.path.exists(file_path) and os.path.isfile(file_path):\n",
        "    # The file exists, so proceed with reading\n",
        "    with open(file_path, \"r\") as file:\n",
        "        content = file.read()\n",
        "        print(content)\n",
        "else:\n",
        "    print(f\"Error: The file '{file_path}' does not exist.\")\n"
      ],
      "metadata": {
        "colab": {
          "base_uri": "https://localhost:8080/"
        },
        "id": "Io8hMPGg3hb-",
        "outputId": "0b96c9e0-73de-4484-cdd0-8a2b441a11de"
      },
      "execution_count": null,
      "outputs": [
        {
          "output_type": "stream",
          "name": "stdout",
          "text": [
            "Hello, this is a test string.\n",
            "This is the appended text.\n"
          ]
        }
      ]
    },
    {
      "cell_type": "code",
      "source": [
        "\"\"\"\n",
        "Ques.14 Write a program that uses the logging module to log both informational and error messages\n",
        "Ans.\n",
        "\"\"\"\n",
        "import logging\n",
        "\n",
        "# Configure the logging to log messages to a file and display in the console\n",
        "logging.basicConfig(\n",
        "    filename=\"app.log\",  # Log to a file named 'app.log'\n",
        "    level=logging.DEBUG,  # Log all levels: DEBUG, INFO, WARNING, ERROR, CRITICAL\n",
        "    format=\"%(asctime)s - %(levelname)s - %(message)s\"\n",
        ")\n",
        "\n",
        "# Log an informational message\n",
        "logging.info(\"This is an informational message.\")\n",
        "\n",
        "try:\n",
        "    # Attempt to divide by zero to trigger an error\n",
        "    num = 10 / 0\n",
        "except ZeroDivisionError as e:\n",
        "    # Log the error message\n",
        "    logging.error(\"Error: Division by zero occurred.\", exc_info=True)\n",
        "\n",
        "print(\"Logging complete! Check 'app.log' for messages.\")\n"
      ],
      "metadata": {
        "colab": {
          "base_uri": "https://localhost:8080/"
        },
        "id": "Z_facNpw3hHG",
        "outputId": "d442e03f-6d5a-45cb-8195-716c2e1da4ed"
      },
      "execution_count": null,
      "outputs": [
        {
          "output_type": "stream",
          "name": "stderr",
          "text": [
            "ERROR:root:Error: Division by zero occurred.\n",
            "Traceback (most recent call last):\n",
            "  File \"<ipython-input-21-348eb8452c0a>\", line 19, in <cell line: 0>\n",
            "    num = 10 / 0\n",
            "          ~~~^~~\n",
            "ZeroDivisionError: division by zero\n"
          ]
        },
        {
          "output_type": "stream",
          "name": "stdout",
          "text": [
            "Logging complete! Check 'app.log' for messages.\n"
          ]
        }
      ]
    },
    {
      "cell_type": "code",
      "source": [
        "\"\"\"\n",
        "Ques.15 Write a Python program that prints the content of a file and handles the case when the file is empty\n",
        "Ans.\n",
        "\"\"\"\n",
        "try:\n",
        "    # Open the file in read mode\n",
        "    with open(\"example.txt\", \"r\") as file:\n",
        "        content = file.read()\n",
        "\n",
        "        # Check if the file is empty\n",
        "        if not content:\n",
        "            print(\"The file is empty.\")\n",
        "        else:\n",
        "            print(\"File content:\")\n",
        "            print(content)\n",
        "\n",
        "except FileNotFoundError:\n",
        "    print(\"Error: The file does not exist.\")\n",
        "except IOError:\n",
        "    print(\"Error: An error occurred while trying to read the file.\")\n"
      ],
      "metadata": {
        "colab": {
          "base_uri": "https://localhost:8080/"
        },
        "id": "2TV-EHuC3gwg",
        "outputId": "7e3d1d8f-dc49-4c38-c3c5-e8d7b13c0c74"
      },
      "execution_count": null,
      "outputs": [
        {
          "output_type": "stream",
          "name": "stdout",
          "text": [
            "File content:\n",
            "Hello, this is a test string.\n",
            "This is the appended text.\n"
          ]
        }
      ]
    },
    {
      "source": [
        "\"\"\"\n",
        "Ques.16 Demonstrate how to use memory profiling to check the memory usage of a small program\n",
        "Ans.\n",
        "\"\"\"\n",
        "from memory_profiler import profile # imports the 'profile' function from the 'memory_profiler' module\n",
        "\n",
        "# Define a function to track memory usage\n",
        "@profile\n",
        "def my_function():\n",
        "    a = [i for i in range(10000)]  # Creating a list of 10,000 integers\n",
        "    b = [i * 2 for i in range(10000)]  # Creating another list of 10,000 integers\n",
        "    c = a + b  # Combining the two lists\n",
        "    return c\n",
        "\n",
        "if __name__ == \"__main__\":\n",
        "    my_function()"
      ],
      "cell_type": "code",
      "metadata": {
        "colab": {
          "base_uri": "https://localhost:8080/",
          "height": 399
        },
        "id": "fo8s0XcM9ILs",
        "outputId": "f0529594-c9ef-41d5-9401-b139377b5670"
      },
      "execution_count": null,
      "outputs": [
        {
          "output_type": "error",
          "ename": "ModuleNotFoundError",
          "evalue": "No module named 'memory_profiler'",
          "traceback": [
            "\u001b[0;31m---------------------------------------------------------------------------\u001b[0m",
            "\u001b[0;31mModuleNotFoundError\u001b[0m                       Traceback (most recent call last)",
            "\u001b[0;32m<ipython-input-24-de885c8644f5>\u001b[0m in \u001b[0;36m<cell line: 0>\u001b[0;34m()\u001b[0m\n\u001b[1;32m      3\u001b[0m \u001b[0mAns\u001b[0m\u001b[0;34m.\u001b[0m\u001b[0;34m\u001b[0m\u001b[0;34m\u001b[0m\u001b[0m\n\u001b[1;32m      4\u001b[0m \"\"\"\n\u001b[0;32m----> 5\u001b[0;31m \u001b[0;32mfrom\u001b[0m \u001b[0mmemory_profiler\u001b[0m \u001b[0;32mimport\u001b[0m \u001b[0mprofile\u001b[0m \u001b[0;31m# imports the 'profile' function from the 'memory_profiler' module\u001b[0m\u001b[0;34m\u001b[0m\u001b[0;34m\u001b[0m\u001b[0m\n\u001b[0m\u001b[1;32m      6\u001b[0m \u001b[0;34m\u001b[0m\u001b[0m\n\u001b[1;32m      7\u001b[0m \u001b[0;31m# Define a function to track memory usage\u001b[0m\u001b[0;34m\u001b[0m\u001b[0;34m\u001b[0m\u001b[0m\n",
            "\u001b[0;31mModuleNotFoundError\u001b[0m: No module named 'memory_profiler'",
            "",
            "\u001b[0;31m---------------------------------------------------------------------------\u001b[0;32m\nNOTE: If your import is failing due to a missing package, you can\nmanually install dependencies using either !pip or !apt.\n\nTo view examples of installing some common dependencies, click the\n\"Open Examples\" button below.\n\u001b[0;31m---------------------------------------------------------------------------\u001b[0m\n"
          ],
          "errorDetails": {
            "actions": [
              {
                "action": "open_url",
                "actionText": "Open Examples",
                "url": "/notebooks/snippets/importing_libraries.ipynb"
              }
            ]
          }
        }
      ]
    },
    {
      "cell_type": "code",
      "source": [
        "\"\"\"\n",
        "Ques.17 How do you log information at different levels (INFO, ERROR, WARNING) in Python using the logging module\n",
        "Ans.\n",
        "\"\"\"\n",
        "# List of numbers to write to the file\n",
        "numbers = [1, 2, 3, 4, 5, 6, 7, 8, 9, 10]\n",
        "\n",
        "# Open the file in write mode\n",
        "with open(\"numbers.txt\", \"w\") as file:\n",
        "    # Write each number to the file, one per line\n",
        "    for number in numbers:\n",
        "        file.write(f\"{number}\\n\")\n",
        "\n",
        "print(\"Numbers have been written to 'numbers.txt' successfully!\")\n"
      ],
      "metadata": {
        "colab": {
          "base_uri": "https://localhost:8080/"
        },
        "id": "clyu-Mlp3gHi",
        "outputId": "4333c8c7-1ebe-4a49-f9a3-c72f83e0063a"
      },
      "execution_count": null,
      "outputs": [
        {
          "output_type": "stream",
          "name": "stdout",
          "text": [
            "Numbers have been written to 'numbers.txt' successfully!\n"
          ]
        }
      ]
    },
    {
      "cell_type": "code",
      "source": [
        "\"\"\"\n",
        "Ques.18 How would you implement a basic logging setup that logs to a file with rotation after 1MB\n",
        "Ans.\n",
        "\"\"\"\n",
        "import logging\n",
        "from logging.handlers import RotatingFileHandler\n",
        "\n",
        "# Set up a rotating file handler\n",
        "handler = RotatingFileHandler('app.log', maxBytes=1*1024*1024, backupCount=3)\n",
        "handler.setLevel(logging.DEBUG)\n",
        "\n",
        "# Create a formatter for the log messages\n",
        "formatter = logging.Formatter('%(asctime)s - %(levelname)s - %(message)s')\n",
        "handler.setFormatter(formatter)\n",
        "\n",
        "# Set up the logger\n",
        "logger = logging.getLogger()\n",
        "logger.setLevel(logging.DEBUG)\n",
        "logger.addHandler(handler)\n",
        "\n",
        "# Example log messages\n",
        "logger.debug(\"This is a debug message.\")\n",
        "logger.info(\"This is an info message.\")\n",
        "logger.warning(\"This is a warning message.\")\n",
        "logger.error(\"This is an error message.\")\n",
        "logger.critical(\"This is a critical message.\")\n",
        "\n",
        "print(\"Logging setup complete. Check the 'app.log' file.\")\n"
      ],
      "metadata": {
        "colab": {
          "base_uri": "https://localhost:8080/"
        },
        "id": "7H0NxCl89pTY",
        "outputId": "56c47d2d-465e-40f2-ba0b-7ff11a6ba2c4"
      },
      "execution_count": null,
      "outputs": [
        {
          "output_type": "stream",
          "name": "stderr",
          "text": [
            "DEBUG:root:This is a debug message.\n",
            "INFO:root:This is an info message.\n",
            "WARNING:root:This is a warning message.\n",
            "ERROR:root:This is an error message.\n",
            "CRITICAL:root:This is a critical message.\n"
          ]
        },
        {
          "output_type": "stream",
          "name": "stdout",
          "text": [
            "Logging setup complete. Check the 'app.log' file.\n"
          ]
        }
      ]
    },
    {
      "cell_type": "code",
      "source": [
        "\"\"\"\n",
        "Ques.19 Write a program that handles both IndexError and KeyError using a try-except block\n",
        "Ans.\n",
        "\"\"\"\n",
        "# Sample data\n",
        "my_list = [10, 20, 30]\n",
        "my_dict = {'name': 'Alice', 'age': 25}\n",
        "\n",
        "try:\n",
        "    # Attempt to access a list element that may cause IndexError\n",
        "    list_element = my_list[5]  # This will raise IndexError because index 5 doesn't exist\n",
        "\n",
        "    # Attempt to access a dictionary key that may cause KeyError\n",
        "    dict_value = my_dict['address']  # This will raise KeyError because 'address' is not in the dictionary\n",
        "\n",
        "except IndexError:\n",
        "    print(\"Error: List index is out of range.\")\n",
        "\n",
        "except KeyError:\n",
        "    print(\"Error: Dictionary key does not exist.\")\n",
        "\n",
        "print(\"Program execution continues.\")\n"
      ],
      "metadata": {
        "colab": {
          "base_uri": "https://localhost:8080/"
        },
        "id": "ct-TpWGZ9r1J",
        "outputId": "bc031bf2-0114-4de7-d705-1df41ca61ceb"
      },
      "execution_count": null,
      "outputs": [
        {
          "output_type": "stream",
          "name": "stdout",
          "text": [
            "Error: List index is out of range.\n",
            "Program execution continues.\n"
          ]
        }
      ]
    },
    {
      "cell_type": "code",
      "source": [
        "\"\"\"\n",
        "Ques.20 How would you open a file and read its contents using a context manager in Python\n",
        "Ans.\n",
        "\"\"\"\n",
        "# Using a context manager to open and read a file\n",
        "with open(\"example.txt\", \"r\") as file:\n",
        "    content = file.read()\n",
        "    print(content)\n"
      ],
      "metadata": {
        "colab": {
          "base_uri": "https://localhost:8080/"
        },
        "id": "gXkLECvP9uMu",
        "outputId": "c99420ad-09e3-4e82-a9b5-bd7833656ed9"
      },
      "execution_count": null,
      "outputs": [
        {
          "output_type": "stream",
          "name": "stdout",
          "text": [
            "Hello, this is a test string.\n",
            "This is the appended text.\n"
          ]
        }
      ]
    },
    {
      "cell_type": "code",
      "source": [
        "\"\"\"\n",
        "Ques.21 Write a Python program that reads a file and prints the number of occurrences of a specific word\n",
        "Ans.\n",
        "\"\"\"\n",
        "def count_word_occurrences(file_name, word):\n",
        "    try:\n",
        "        # Open the file in read mode\n",
        "        with open(file_name, 'r') as file:\n",
        "            content = file.read()  # Read the entire content of the file\n",
        "\n",
        "        # Count the occurrences of the specific word (case-insensitive)\n",
        "        word_count = content.lower().split().count(word.lower())\n",
        "\n",
        "        print(f\"The word '{word}' appears {word_count} times in the file.\")\n",
        "    except FileNotFoundError:\n",
        "        print(f\"Error: The file '{file_name}' does not exist.\")\n",
        "    except IOError:\n",
        "        print(\"Error: An error occurred while reading the file.\")\n",
        "\n",
        "# Example usage\n",
        "count_word_occurrences(\"example.txt\", \"python\")\n"
      ],
      "metadata": {
        "colab": {
          "base_uri": "https://localhost:8080/"
        },
        "id": "GwaLoKxs9twW",
        "outputId": "b22a22bd-3e86-4959-d0db-c1ce41c95b11"
      },
      "execution_count": null,
      "outputs": [
        {
          "output_type": "stream",
          "name": "stdout",
          "text": [
            "The word 'python' appears 0 times in the file.\n"
          ]
        }
      ]
    },
    {
      "cell_type": "code",
      "source": [
        "\"\"\"\n",
        "Ques.22 How can you check if a file is empty before attempting to read its contents\n",
        "Ans.\n",
        "\"\"\"\n",
        "import os\n",
        "\n",
        "file_path = \"example.txt\"\n",
        "\n",
        "# Check if the file is empty by checking its size\n",
        "if os.stat(file_path).st_size == 0:\n",
        "    print(\"The file is empty.\")\n",
        "else:\n",
        "    with open(file_path, \"r\") as file:\n",
        "        content = file.read()  # Read the contents of the file\n",
        "        print(content)\n"
      ],
      "metadata": {
        "colab": {
          "base_uri": "https://localhost:8080/"
        },
        "id": "Cie9cpuB9tUw",
        "outputId": "95559053-df4a-432f-c3d8-320dae4961a0"
      },
      "execution_count": null,
      "outputs": [
        {
          "output_type": "stream",
          "name": "stdout",
          "text": [
            "Hello, this is a test string.\n",
            "This is the appended text.\n"
          ]
        }
      ]
    },
    {
      "cell_type": "code",
      "source": [
        "\"\"\"\n",
        "Ques.23 Write a Python program that writes to a log file when an error occurs during file handling.\n",
        "Ans.\n",
        "\"\"\"\n",
        "import logging\n",
        "\n",
        "# Set up logging to write errors to a log file\n",
        "logging.basicConfig(\n",
        "    filename='file_handling_errors.log',  # Log file name\n",
        "    level=logging.ERROR,  # Only log error messages\n",
        "    format='%(asctime)s - %(levelname)s - %(message)s'\n",
        ")\n",
        "\n",
        "def handle_file_operations():\n",
        "    try:\n",
        "        # Attempt to open a file for reading\n",
        "        with open(\"example.txt\", \"r\") as file:\n",
        "            content = file.read()\n",
        "            print(content)\n",
        "\n",
        "    except FileNotFoundError as e:\n",
        "        logging.error(f\"FileNotFoundError: {e} - The file could not be found.\")\n",
        "    except IOError as e:\n",
        "        logging.error(f\"IOError: {e} - An error occurred while accessing the file.\")\n",
        "    except Exception as e:\n",
        "        logging.error(f\"Unexpected error: {e}\")\n",
        "\n",
        "# Call the function to handle file operations\n",
        "handle_file_operations()\n"
      ],
      "metadata": {
        "colab": {
          "base_uri": "https://localhost:8080/"
        },
        "id": "iE23lyWM9s0M",
        "outputId": "a7091ce2-b107-42e5-988a-218403c2cf73"
      },
      "execution_count": null,
      "outputs": [
        {
          "output_type": "stream",
          "name": "stdout",
          "text": [
            "Hello, this is a test string.\n",
            "This is the appended text.\n"
          ]
        }
      ]
    }
  ]
}